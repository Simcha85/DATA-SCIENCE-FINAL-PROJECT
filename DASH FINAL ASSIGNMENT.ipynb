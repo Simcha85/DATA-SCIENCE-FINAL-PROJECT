{
 "cells": [
  {
   "cell_type": "code",
   "execution_count": 1,
   "id": "21883f04-0fb9-47c5-93f9-7272477fb0c3",
   "metadata": {
    "tags": []
   },
   "outputs": [
    {
     "name": "stderr",
     "output_type": "stream",
     "text": [
      "C:\\Users\\scman\\AppData\\Local\\Temp\\ipykernel_15464\\703872651.py:4: UserWarning: \n",
      "The dash_html_components package is deprecated. Please replace\n",
      "`import dash_html_components as html` with `from dash import html`\n",
      "  import dash_html_components as html\n",
      "C:\\Users\\scman\\AppData\\Local\\Temp\\ipykernel_15464\\703872651.py:5: UserWarning: \n",
      "The dash_core_components package is deprecated. Please replace\n",
      "`import dash_core_components as dcc` with `from dash import dcc`\n",
      "  import dash_core_components as dcc\n",
      "[2024-07-03 19:30:04,055] ERROR in app: Exception on /_alive_21f796b9-b590-4082-8605-036f83744fd0 [GET]\n",
      "Traceback (most recent call last):\n",
      "  File \"C:\\Users\\scman\\anaconda3\\Lib\\site-packages\\flask\\app.py\", line 2529, in wsgi_app\n",
      "    response = self.full_dispatch_request()\n",
      "               ^^^^^^^^^^^^^^^^^^^^^^^^^^^^\n",
      "  File \"C:\\Users\\scman\\anaconda3\\Lib\\site-packages\\flask\\app.py\", line 1825, in full_dispatch_request\n",
      "    rv = self.handle_user_exception(e)\n",
      "         ^^^^^^^^^^^^^^^^^^^^^^^^^^^^^\n",
      "  File \"C:\\Users\\scman\\anaconda3\\Lib\\site-packages\\flask\\app.py\", line 1821, in full_dispatch_request\n",
      "    rv = self.preprocess_request()\n",
      "         ^^^^^^^^^^^^^^^^^^^^^^^^^\n",
      "  File \"C:\\Users\\scman\\anaconda3\\Lib\\site-packages\\flask\\app.py\", line 2313, in preprocess_request\n",
      "    rv = self.ensure_sync(before_func)()\n",
      "         ^^^^^^^^^^^^^^^^^^^^^^^^^^^^^^^\n",
      "  File \"C:\\Users\\scman\\anaconda3\\Lib\\site-packages\\dash\\dash.py\", line 1412, in _setup_server\n",
      "    _validate.validate_layout(self.layout, self._layout_value())\n",
      "  File \"C:\\Users\\scman\\anaconda3\\Lib\\site-packages\\dash\\_validate.py\", line 449, in validate_layout\n",
      "    _validate(layout_value)\n",
      "  File \"C:\\Users\\scman\\anaconda3\\Lib\\site-packages\\dash\\_validate.py\", line 438, in _validate\n",
      "    _validate_id(component)\n",
      "  File \"C:\\Users\\scman\\anaconda3\\Lib\\site-packages\\dash\\_validate.py\", line 428, in _validate_id\n",
      "    raise exceptions.DuplicateIdError(\n",
      "dash.exceptions.DuplicateIdError: Duplicate component id found in the initial layout: `payload-slider`\n"
     ]
    },
    {
     "data": {
      "text/html": [
       "\n",
       "        <iframe\n",
       "            width=\"100%\"\n",
       "            height=\"650\"\n",
       "            src=\"http://127.0.0.1:8050/\"\n",
       "            frameborder=\"0\"\n",
       "            allowfullscreen\n",
       "            \n",
       "        ></iframe>\n",
       "        "
      ],
      "text/plain": [
       "<IPython.lib.display.IFrame at 0x20073520e10>"
      ]
     },
     "metadata": {},
     "output_type": "display_data"
    }
   ],
   "source": [
    "import pandas as pd\n",
    "import plotly.graph_objects as go\n",
    "import dash\n",
    "import dash_html_components as html\n",
    "import dash_core_components as dcc\n",
    "from dash.dependencies import Input, Output, State\n",
    "\n",
    "\n",
    "spacex_launch_data=pd.read_csv(\"https://cf-courses-data.s3.us.cloud-object-storage.appdomain.cloud/IBM-DS0321EN-SkillsNetwork/datasets/spacex_launch_dash.csv\",\n",
    "                                encoding=\"ISO-8859-1\"\n",
    ")\n",
    "max_payload = spacex_launch_data['Payload Mass (kg)'].max()\n",
    "min_payload = spacex_launch_data['Payload Mass (kg)'].min()\n",
    "\n",
    "app=dash.Dash(__name__)\n",
    "\n",
    "app.layout=html.Div(children=[html.H1('SpaceX Launch Records Dashboard',),\n",
    "            \n",
    "            dcc.Dropdown(id='site-dropdown',\n",
    "            options=[{'label':'All Sites','value':'ALL'},\n",
    "            {'label': 'CCAFS LC-40', 'value': 'CCAFSLC-40'},\n",
    "            {'label': 'CCAFS SLC-40', 'value': 'CCAFS SLC-40'},\n",
    "            {'label': 'KSC LC-39A', 'value': 'KSC LC-39A'},\n",
    "            {'label': 'VAFB SLC-4E', 'value': 'VAFB SLC-4E'}\n",
    "            ],\n",
    "            value='ALL',\n",
    "            placeholder=\"Select a Launch Site here\",\n",
    "            searchable=True\n",
    "            ),\n",
    "           html.Br(),\n",
    "           html.Div(dcc.Graph(id='success-pie-chart')),\n",
    "           html.Br(),\n",
    "           html.P('Payload Mass (kg):'),\n",
    "           dcc.RangeSlider(id='payload-slider',\n",
    "                min=0, max=10000, step=1000,\n",
    "                marks={0: '0',\n",
    "                       100: '100'},\n",
    "                value=[min_payload, max_payload]),\n",
    "                html.Div(dcc.Graph(id='payload-slider')),\n",
    "])\n",
    "# Function decorator to specify function input and output\n",
    "@app.callback(Output(component_id='success-pie-chart', component_property='figure'),\n",
    "              Input(component_id='site-dropdown', component_property='value'))\n",
    "def get_pie_chart(entered_site):\n",
    "    filtered_df = spacex_df\n",
    "    if entered_site == 'ALL':\n",
    "        fig = px.pie(filtered_df, values='class', \n",
    "        names='pie chart names', \n",
    "        title='Success Pie Chart')\n",
    "        return fig\n",
    "    else:\n",
    "        filtered_df=spacex_df[spacex_df['Launch Site']== entered_site]\n",
    "        filtered_df=filtered_df.groupby(['Launch Site','class']).size().reset_index(name='class count')\n",
    "        fig=px.pie(filtered_df,values='class count',names='class',title=f\"Total Success Launches for site {entered_site}\")\n",
    "        return fig\n",
    "\n",
    "\n",
    "# Function decorator to specify function input and output\n",
    "@app.callback(Output(component_id='success-payload-scatter-chart', component_property='figure'),\n",
    "              [Input(component_id='site-dropdown', component_property='value'),\n",
    "              Input(component_id=\"payload-slider\",component_property=\"value\")]\n",
    ")\n",
    "\n",
    "def get_scatter(entered_site):\n",
    "    filtered_df2 = spacex_df[spacex_df['Payload Mass (kg)'].between(payload[0],payload[1])]\n",
    "    \n",
    "    if entered_site == 'ALL':\n",
    "        fig = px.scatter(filtered_df2, x='Payload Mass (kg)',y='class',color='Booster Version Category',title='Correlation between Payload Mass and Success for all sites') \n",
    "        return fig\n",
    "       \n",
    "    else:\n",
    "       fig=px.scatter(filtered_df2[filtered_df2['Launch Site']==entered_site],x='Payload Mass (kg)',y='class',color='Booster Version Category',title=f\"Correlation between Payload Mass and Success for all sites {entered_site}\")\n",
    "       return fig\n",
    "\n",
    "if __name__ == '__main__':\n",
    "    app.run_server()\n"
   ]
  },
  {
   "cell_type": "code",
   "execution_count": null,
   "id": "5e4e8cfb-b8f0-44fa-8d76-572a7b8eb765",
   "metadata": {},
   "outputs": [],
   "source": []
  }
 ],
 "metadata": {
  "kernelspec": {
   "display_name": "Python 3 (ipykernel)",
   "language": "python",
   "name": "python3"
  },
  "language_info": {
   "codemirror_mode": {
    "name": "ipython",
    "version": 3
   },
   "file_extension": ".py",
   "mimetype": "text/x-python",
   "name": "python",
   "nbconvert_exporter": "python",
   "pygments_lexer": "ipython3",
   "version": "3.11.7"
  }
 },
 "nbformat": 4,
 "nbformat_minor": 5
}
